{
  "cells": [
    {
      "cell_type": "markdown",
      "metadata": {
        "id": "pKKAE9OJaQ0e"
      },
      "source": [
        "**Before running any cell, when connected to a new runtime, always run the git clone to load the dataset in the remote machine's local storage**"
      ]
    },
    {
      "cell_type": "code",
      "execution_count": 3,
      "metadata": {
        "id": "3zUnXg1fy_lZ"
      },
      "outputs": [],
      "source": [
        "import pandas as pd\n",
        "import numpy as np\n",
        "from sklearn.model_selection import train_test_split\n",
        "from sklearn import preprocessing"
      ]
    },
    {
      "cell_type": "markdown",
      "metadata": {},
      "source": [
        "consumer sleep technologies\n",
        "deep neural network\n",
        "he radial basis function (RBF) kernel support vector\n",
        "machine (SVM) learning achieved peak classification performance\n",
        "in predicting AHI > 5 with 70.1% precision\n",
        " machine learning algorithms capable of incor-\n",
        "porating complex, heterogeneous and high dimensionality data.\n",
        "clustering\n",
        "treating optimization\n",
        "\n",
        "Practice points\n",
        "1. Artificial intelligence can score sleep studies in a quick\n",
        "and accurate manner.\n",
        "2. Artificial intelligence will allow screening of sleep disor-\n",
        "der risk based on currently available clinical and objec-\n",
        "tive test data from electronic medical records.\n",
        "3. Artificial intelligence has the potential to transform and\n",
        "simplify the diagnosis of sleep disorders, increase access\n",
        "to diagnostic services for patients, and make the process\n",
        "more cost-effective.\n",
        "4. Artificial intelligence will be the key to personalized\n",
        "medicine in the future by integrating “omic” and clinical\n",
        "data to better understand the specifics of an individual's\n",
        "sleep pathology.\n",
        "5. Artificial intelligence facilitates endotyping of sleep dis-\n",
        "orders expediting effective treatment.\n",
        "Research agenda\n",
        "1. To explore how and why machine learning and deep\n",
        "learning have emerged at the forefront of recent artificial\n",
        "intelligence performance breakthroughs across a broad\n",
        "class of research, basic scientific, and clinical applica-\n",
        "tions in sleep medicine and patient care.\n",
        "2. To develop translational sleep artificial intelligence\n",
        "research to accelerate the validation, research applica-\n",
        "tion, and practical clinical adoption of these technologies\n",
        "for the delivery of sleep patient care.\n",
        "3. To develop accurate machine learning approaches to\n",
        "electronic medical record clinical data and objective\n",
        "testing data for sleep disorders risk assessment to create\n",
        "a sleep disturbance “vital sign” for primary care doctors.\n",
        "4. Deconstruction and machine learning assessment of\n",
        "traditional sleep testing components to determine the\n",
        "minimal amount of data needed to accurately diagnose\n",
        "various sleep disorders.\n",
        "5. Determination of optimal sleep disorder endotype\n",
        "focused treatment approaches to expediently optimize\n",
        "treatment outcomes."
      ]
    },
    {
      "cell_type": "code",
      "execution_count": 5,
      "metadata": {
        "colab": {
          "base_uri": "https://localhost:8080/"
        },
        "id": "fQxW9H8KzFUo",
        "outputId": "10548d43-e194-4236-fa3f-a886e444b00c"
      },
      "outputs": [
        {
          "name": "stdout",
          "output_type": "stream",
          "text": [
            "Total number of samples:  2790\n"
          ]
        }
      ],
      "source": [
        "ds1 = pd.read_csv(\"/home/trigger/Documents/GitHub/Sleep-Quality-AI-project/Datasets/DataSheet_2_Gender-Specific Association Between Sleep Duration and Body Mass Index in Rural China.csv\")\n",
        "ds1.head()\n",
        "\n",
        "ds1 = ds1.dropna()\n",
        "\n",
        "Data = ds1.values\n",
        "\n",
        "m = Data.shape[0]\n",
        "Y = Data[:m,2]\n",
        "X = Data[:m,3:]\n",
        "\n",
        "print(\"Total number of samples: \", m)\n"
      ]
    },
    {
      "cell_type": "code",
      "execution_count": 7,
      "metadata": {
        "colab": {
          "base_uri": "https://localhost:8080/",
          "height": 452
        },
        "id": "WWApzVzuavB8",
        "outputId": "13264a11-99c0-4350-fc1c-fd4292eea896"
      },
      "outputs": [
        {
          "data": {
            "image/png": "[encoded data removed]",
            "text/plain": [
              "<Figure size 640x480 with 1 Axes>"
            ]
          },
          "metadata": {},
          "output_type": "display_data"
        }
      ],
      "source": [
        "# @title age\n",
        "\n",
        "from matplotlib import pyplot as plt\n",
        "ds1['age'].plot(kind='hist', bins=20, title='age')\n",
        "plt.gca().spines[['top', 'right',]].set_visible(False)"
      ]
    }
  ],
  "metadata": {
    "accelerator": "GPU",
    "colab": {
      "gpuType": "T4",
      "provenance": []
    },
    "kernelspec": {
      "display_name": "Python 3",
      "name": "python3"
    },
    "language_info": {
      "codemirror_mode": {
        "name": "ipython",
        "version": 3
      },
      "file_extension": ".py",
      "mimetype": "text/x-python",
      "name": "python",
      "nbconvert_exporter": "python",
      "pygments_lexer": "ipython3",
      "version": "3.12.2"
    }
  },
  "nbformat": 4,
  "nbformat_minor": 0
}
