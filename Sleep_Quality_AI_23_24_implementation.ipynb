{
  "nbformat": 4,
  "nbformat_minor": 0,
  "metadata": {
    "colab": {
      "provenance": [],
      "gpuType": "T4"
    },
    "kernelspec": {
      "name": "python3",
      "display_name": "Python 3"
    },
    "language_info": {
      "name": "python"
    },
    "accelerator": "GPU"
  },
  "cells": [
    {
      "cell_type": "markdown",
      "source": [
        "**Before running any cell, when connected to a new runtime, always run the git clone to load the dataset in the remote machine's local storage**"
      ],
      "metadata": {
        "id": "pKKAE9OJaQ0e"
      }
    },
    {
      "cell_type": "code",
      "source": [
        "!git clone https://github.com/thelion154/Sleep-Quality-AI-project.git"
      ],
      "metadata": {
        "colab": {
          "base_uri": "https://localhost:8080/"
        },
        "id": "E0efiBX2x5dQ",
        "outputId": "b94b119c-339a-4128-e81d-76010258ba6e"
      },
      "execution_count": 1,
      "outputs": [
        {
          "output_type": "stream",
          "name": "stdout",
          "text": [
            "Cloning into 'Sleep-Quality-AI-project'...\n",
            "remote: Enumerating objects: 10, done.\u001b[K\n",
            "remote: Counting objects: 100% (10/10), done.\u001b[K\n",
            "remote: Compressing objects: 100% (9/9), done.\u001b[K\n",
            "remote: Total 10 (delta 0), reused 6 (delta 0), pack-reused 0\u001b[K\n",
            "Receiving objects: 100% (10/10), 293.02 KiB | 1.54 MiB/s, done.\n"
          ]
        }
      ]
    },
    {
      "cell_type": "code",
      "source": [
        "import pandas as pd\n",
        "import numpy as np\n",
        "from sklearn.model_selection import train_test_split\n",
        "from sklearn import preprocessing"
      ],
      "metadata": {
        "id": "3zUnXg1fy_lZ"
      },
      "execution_count": 7,
      "outputs": []
    },
    {
      "cell_type": "code",
      "source": [
        "ds1 = pd.read_csv(\"/content/Sleep-Quality-AI-project/Datasets/DataSheet_2_Gender-Specific Association Between Sleep Duration and Body Mass Index in Rural China.csv\")\n",
        "\n",
        "ds1.head()\n",
        "\n",
        "ds1 = ds1.dropna()\n",
        "\n",
        "Data = ds1.values\n",
        "\n",
        "m = Data.shape[0]\n",
        "Y = Data[:m,2]\n",
        "X = Data[:m,3:]\n",
        "\n",
        "print(\"Total number of samples: \", m)"
      ],
      "metadata": {
        "colab": {
          "base_uri": "https://localhost:8080/"
        },
        "id": "fQxW9H8KzFUo",
        "outputId": "10548d43-e194-4236-fa3f-a886e444b00c"
      },
      "execution_count": 9,
      "outputs": [
        {
          "output_type": "stream",
          "name": "stdout",
          "text": [
            "Total number of samples:  2790\n"
          ]
        }
      ]
    },
    {
      "source": [
        "# @title age\n",
        "\n",
        "from matplotlib import pyplot as plt\n",
        "ds1['age'].plot(kind='hist', bins=20, title='age')\n",
        "plt.gca().spines[['top', 'right',]].set_visible(False)"
      ],
      "cell_type": "code",
      "execution_count": 4,
      "outputs": [
        {
          "output_type": "display_data",
          "data": {
            "text/plain": [
              "<Figure size 640x480 with 1 Axes>"
            ],
            "image/png": "[encoded data removed]"
          },
          "metadata": {}
        }
      ],
      "metadata": {
        "id": "WWApzVzuavB8",
        "outputId": "13264a11-99c0-4350-fc1c-fd4292eea896",
        "colab": {
          "base_uri": "https://localhost:8080/",
          "height": 452
        }
      }
    }
  ]
}